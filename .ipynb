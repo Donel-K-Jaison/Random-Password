import random
import string

def generate_password(length=8):
    """Generate a random password of given length"""
    characters = string.ascii_letters + string.digits + string.punctuation
    password = ''.join(random.choice(characters) for i in range(length))
    return password

while True:
    password = generate_password()
    print(f"Your random password is: {password}")
    
    choice = input("Do you want to generate another password? (y/n) ")
    if choice.lower() == 'n':
        break
